{
 "cells": [
  {
   "cell_type": "code",
   "execution_count": 1,
   "id": "2386e104",
   "metadata": {},
   "outputs": [
    {
     "name": "stderr",
     "output_type": "stream",
     "text": [
      "/home/tulio/miniconda3/lib/python3.7/importlib/_bootstrap.py:219: RuntimeWarning: numpy.ufunc size changed, may indicate binary incompatibility. Expected 192 from C header, got 216 from PyObject\n",
      "  return f(*args, **kwds)\n"
     ]
    }
   ],
   "source": [
    "import re\n",
    "\n",
    "import nltk\n",
    "import pandas as pd\n",
    "from sklearn.feature_extraction.text import CountVectorizer\n",
    "from sklearn.naive_bayes import MultinomialNB\n",
    "\n",
    "from sklearn import metrics\n",
    "from sklearn.model_selection import cross_val_predict"
   ]
  },
  {
   "cell_type": "code",
   "execution_count": 2,
   "id": "957721c8",
   "metadata": {},
   "outputs": [],
   "source": [
    "dataset = pd.read_csv(r'/home/tulio/Documents/UFU/ORI/reforma_previdencia_rotulado.csv',sep=';')"
   ]
  },
  {
   "cell_type": "code",
   "execution_count": 3,
   "id": "fb011284",
   "metadata": {},
   "outputs": [
    {
     "data": {
      "text/html": [
       "<div>\n",
       "<style scoped>\n",
       "    .dataframe tbody tr th:only-of-type {\n",
       "        vertical-align: middle;\n",
       "    }\n",
       "\n",
       "    .dataframe tbody tr th {\n",
       "        vertical-align: top;\n",
       "    }\n",
       "\n",
       "    .dataframe thead th {\n",
       "        text-align: right;\n",
       "    }\n",
       "</style>\n",
       "<table border=\"1\" class=\"dataframe\">\n",
       "  <thead>\n",
       "    <tr style=\"text-align: right;\">\n",
       "      <th></th>\n",
       "      <th>Tweet</th>\n",
       "      <th>Classificação</th>\n",
       "    </tr>\n",
       "  </thead>\n",
       "  <tbody>\n",
       "    <tr>\n",
       "      <th>count</th>\n",
       "      <td>2232</td>\n",
       "      <td>2232</td>\n",
       "    </tr>\n",
       "    <tr>\n",
       "      <th>unique</th>\n",
       "      <td>2217</td>\n",
       "      <td>3</td>\n",
       "    </tr>\n",
       "    <tr>\n",
       "      <th>top</th>\n",
       "      <td>Fica fácil votar uma reforma da Previdência qu...</td>\n",
       "      <td>Neutro</td>\n",
       "    </tr>\n",
       "    <tr>\n",
       "      <th>freq</th>\n",
       "      <td>4</td>\n",
       "      <td>780</td>\n",
       "    </tr>\n",
       "  </tbody>\n",
       "</table>\n",
       "</div>"
      ],
      "text/plain": [
       "                                                    Tweet Classificação\n",
       "count                                                2232          2232\n",
       "unique                                               2217             3\n",
       "top     Fica fácil votar uma reforma da Previdência qu...        Neutro\n",
       "freq                                                    4           780"
      ]
     },
     "execution_count": 3,
     "metadata": {},
     "output_type": "execute_result"
    }
   ],
   "source": [
    "dataset.describe()"
   ]
  },
  {
   "cell_type": "code",
   "execution_count": 4,
   "id": "abf46221",
   "metadata": {},
   "outputs": [
    {
     "data": {
      "text/plain": [
       "Tweet            2232\n",
       "Classificação    2232\n",
       "dtype: int64"
      ]
     },
     "execution_count": 4,
     "metadata": {},
     "output_type": "execute_result"
    }
   ],
   "source": [
    "dataset.count()"
   ]
  },
  {
   "cell_type": "code",
   "execution_count": 5,
   "id": "8accf046",
   "metadata": {},
   "outputs": [
    {
     "data": {
      "text/plain": [
       "Neutro      780\n",
       "Positivo    740\n",
       "Negativo    712\n",
       "Name: Classificação, dtype: int64"
      ]
     },
     "execution_count": 5,
     "metadata": {},
     "output_type": "execute_result"
    }
   ],
   "source": [
    "dataset[\"Classificação\"].value_counts()"
   ]
  },
  {
   "cell_type": "code",
   "execution_count": 6,
   "id": "5952ac36",
   "metadata": {},
   "outputs": [],
   "source": [
    "tweets, sentimentos = dataset['Tweet'], dataset['Classificação']"
   ]
  },
  {
   "cell_type": "code",
   "execution_count": 14,
   "id": "f2bf5335",
   "metadata": {},
   "outputs": [],
   "source": [
    "vectorizer = CountVectorizer(analyzer='word',ngram_range=(1,2))\n",
    "freq_tweets = vectorizer.fit_transform(tweets)"
   ]
  },
  {
   "cell_type": "code",
   "execution_count": 15,
   "id": "89e7a92e",
   "metadata": {},
   "outputs": [
    {
     "data": {
      "text/plain": [
       "MultinomialNB(alpha=1.0, class_prior=None, fit_prior=True)"
      ]
     },
     "execution_count": 15,
     "metadata": {},
     "output_type": "execute_result"
    }
   ],
   "source": [
    "model = MultinomialNB()\n",
    "model.fit(freq_tweets, sentimentos)"
   ]
  },
  {
   "cell_type": "code",
   "execution_count": 16,
   "id": "123a54fc",
   "metadata": {},
   "outputs": [
    {
     "name": "stdout",
     "output_type": "stream",
     "text": [
      "['Reforma da Previdência é uma uma emenda constitucional', 'Essa reforma da previdência é uma coisa imunda', 'A reforma da previdência será modificada pra economizar menos', 'Só irei aposentar no caixão', 'Isso é regime de escravidão o que essa reforma propões']\n"
     ]
    }
   ],
   "source": [
    "testes = [\n",
    "    \"Reforma da Previdência é uma uma emenda constitucional\", # Neutro\n",
    "    \"Essa reforma da previdência é uma coisa imunda\", # Negativo\n",
    "    \"A reforma da previdência será modificada pra economizar menos\", # Neutro\n",
    "    \"Só irei aposentar no caixão\", # Negativo\n",
    "    \"Isso é regime de escravidão o que essa reforma propões\" # Negativo\n",
    "]\n",
    "print(testes)"
   ]
  },
  {
   "cell_type": "code",
   "execution_count": 17,
   "id": "70a0a5ae",
   "metadata": {},
   "outputs": [],
   "source": [
    "freq_testes = vectorizer.transform(testes)"
   ]
  },
  {
   "cell_type": "code",
   "execution_count": 18,
   "id": "44d93e84",
   "metadata": {},
   "outputs": [
    {
     "data": {
      "text/plain": [
       "array(['Neutro', 'Negativo', 'Negativo', 'Negativo', 'Negativo'],\n",
       "      dtype='<U8')"
      ]
     },
     "execution_count": 18,
     "metadata": {},
     "output_type": "execute_result"
    }
   ],
   "source": [
    "model.predict(freq_testes)"
   ]
  },
  {
   "cell_type": "code",
   "execution_count": 19,
   "id": "1e4fffa8",
   "metadata": {},
   "outputs": [],
   "source": [
    "resultados = cross_val_predict(model, freq_tweets, sentimentos, cv=10)"
   ]
  },
  {
   "cell_type": "code",
   "execution_count": 20,
   "id": "f5d08845",
   "metadata": {},
   "outputs": [
    {
     "data": {
      "text/plain": [
       "0.6097670250896058"
      ]
     },
     "execution_count": 20,
     "metadata": {},
     "output_type": "execute_result"
    }
   ],
   "source": [
    "metrics.accuracy_score(sentimentos, resultados)"
   ]
  },
  {
   "cell_type": "code",
   "execution_count": 21,
   "id": "ac15bb20",
   "metadata": {},
   "outputs": [
    {
     "name": "stdout",
     "output_type": "stream",
     "text": [
      "              precision    recall  f1-score   support\n",
      "\n",
      "    Negativo       0.59      0.58      0.58       712\n",
      "      Neutro       0.68      0.56      0.62       780\n",
      "    Positivo       0.58      0.69      0.63       740\n",
      "\n",
      "    accuracy                           0.61      2232\n",
      "   macro avg       0.61      0.61      0.61      2232\n",
      "weighted avg       0.62      0.61      0.61      2232\n",
      "\n"
     ]
    }
   ],
   "source": [
    "print(metrics.classification_report(sentimentos, resultados))"
   ]
  },
  {
   "cell_type": "code",
   "execution_count": 23,
   "id": "dce896ad",
   "metadata": {},
   "outputs": [
    {
     "data": {
      "image/png": "[encoded data removed]",
      "text/plain": [
       "<Figure size 640x480 with 2 Axes>"
      ]
     },
     "metadata": {},
     "output_type": "display_data"
    }
   ],
   "source": [
    "confusion_matrix = metrics.plot_confusion_matrix(model,X=freq_tweets,y_true=sentimentos,values_format='.4g')"
   ]
  },
  {
   "cell_type": "markdown",
   "id": "24ee6cb6",
   "metadata": {},
   "source": [
    "## Resultado\n",
    "\n",
    "Pendente."
   ]
  }
 ],
 "metadata": {
  "kernelspec": {
   "display_name": "Python 3 (ipykernel)",
   "language": "python",
   "name": "python3"
  },
  "language_info": {
   "codemirror_mode": {
    "name": "ipython",
    "version": 3
   },
   "file_extension": ".py",
   "mimetype": "text/x-python",
   "name": "python",
   "nbconvert_exporter": "python",
   "pygments_lexer": "ipython3",
   "version": "3.7.7"
  }
 },
 "nbformat": 4,
 "nbformat_minor": 5
}
