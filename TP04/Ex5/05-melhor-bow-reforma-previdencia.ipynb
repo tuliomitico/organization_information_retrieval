{
 "cells": [
  {
   "cell_type": "code",
   "execution_count": 2,
   "id": "d8df03d2",
   "metadata": {},
   "outputs": [
    {
     "name": "stderr",
     "output_type": "stream",
     "text": [
      "/home/tulio/miniconda3/lib/python3.7/importlib/_bootstrap.py:219: RuntimeWarning: numpy.ufunc size changed, may indicate binary incompatibility. Expected 192 from C header, got 216 from PyObject\n",
      "  return f(*args, **kwds)\n"
     ]
    }
   ],
   "source": [
    "import re\n",
    "\n",
    "import nltk\n",
    "import pandas as pd\n",
    "from sklearn.feature_extraction.text import TfidfVectorizer\n",
    "from sklearn.ensemble import RandomForestClassifier\n",
    "\n",
    "from sklearn import metrics\n",
    "from sklearn.model_selection import cross_val_predict"
   ]
  },
  {
   "cell_type": "code",
   "execution_count": 4,
   "id": "c43282d6",
   "metadata": {},
   "outputs": [],
   "source": [
    "dataset = pd.read_csv(r'/home/tulio/Documents/UFU/ORI/reforma_previdencia_rotulado.csv',sep=';')"
   ]
  },
  {
   "cell_type": "code",
   "execution_count": 5,
   "id": "263cdd12",
   "metadata": {},
   "outputs": [
    {
     "data": {
      "text/html": [
       "<div>\n",
       "<style scoped>\n",
       "    .dataframe tbody tr th:only-of-type {\n",
       "        vertical-align: middle;\n",
       "    }\n",
       "\n",
       "    .dataframe tbody tr th {\n",
       "        vertical-align: top;\n",
       "    }\n",
       "\n",
       "    .dataframe thead th {\n",
       "        text-align: right;\n",
       "    }\n",
       "</style>\n",
       "<table border=\"1\" class=\"dataframe\">\n",
       "  <thead>\n",
       "    <tr style=\"text-align: right;\">\n",
       "      <th></th>\n",
       "      <th>Tweet</th>\n",
       "      <th>Classificação</th>\n",
       "    </tr>\n",
       "  </thead>\n",
       "  <tbody>\n",
       "    <tr>\n",
       "      <th>count</th>\n",
       "      <td>2232</td>\n",
       "      <td>2232</td>\n",
       "    </tr>\n",
       "    <tr>\n",
       "      <th>unique</th>\n",
       "      <td>2217</td>\n",
       "      <td>3</td>\n",
       "    </tr>\n",
       "    <tr>\n",
       "      <th>top</th>\n",
       "      <td>Fica fácil votar uma reforma da Previdência qu...</td>\n",
       "      <td>Neutro</td>\n",
       "    </tr>\n",
       "    <tr>\n",
       "      <th>freq</th>\n",
       "      <td>4</td>\n",
       "      <td>780</td>\n",
       "    </tr>\n",
       "  </tbody>\n",
       "</table>\n",
       "</div>"
      ],
      "text/plain": [
       "                                                    Tweet Classificação\n",
       "count                                                2232          2232\n",
       "unique                                               2217             3\n",
       "top     Fica fácil votar uma reforma da Previdência qu...        Neutro\n",
       "freq                                                    4           780"
      ]
     },
     "execution_count": 5,
     "metadata": {},
     "output_type": "execute_result"
    }
   ],
   "source": [
    "dataset.describe()"
   ]
  },
  {
   "cell_type": "code",
   "execution_count": 6,
   "id": "ab1bea93",
   "metadata": {},
   "outputs": [
    {
     "data": {
      "text/plain": [
       "Tweet            2232\n",
       "Classificação    2232\n",
       "dtype: int64"
      ]
     },
     "execution_count": 6,
     "metadata": {},
     "output_type": "execute_result"
    }
   ],
   "source": [
    "dataset.count()"
   ]
  },
  {
   "cell_type": "code",
   "execution_count": 7,
   "id": "df276f42",
   "metadata": {},
   "outputs": [
    {
     "data": {
      "text/plain": [
       "Neutro      780\n",
       "Positivo    740\n",
       "Negativo    712\n",
       "Name: Classificação, dtype: int64"
      ]
     },
     "execution_count": 7,
     "metadata": {},
     "output_type": "execute_result"
    }
   ],
   "source": [
    "dataset[\"Classificação\"].value_counts()"
   ]
  },
  {
   "cell_type": "code",
   "execution_count": 9,
   "id": "30971991",
   "metadata": {},
   "outputs": [],
   "source": [
    "tweets, sentimentos = dataset['Tweet'], dataset['Classificação']"
   ]
  },
  {
   "cell_type": "code",
   "execution_count": 10,
   "id": "38e44202",
   "metadata": {},
   "outputs": [],
   "source": [
    "vectorizer = TfidfVectorizer(analyzer='word',ngram_range=(1,1))\n",
    "tfidf_tweets = vectorizer.fit_transform(tweets)"
   ]
  },
  {
   "cell_type": "code",
   "execution_count": 23,
   "id": "8cf631b9",
   "metadata": {},
   "outputs": [
    {
     "data": {
      "text/plain": [
       "RandomForestClassifier(bootstrap=True, ccp_alpha=0.0, class_weight=None,\n",
       "                       criterion='gini', max_depth=10, max_features='auto',\n",
       "                       max_leaf_nodes=None, max_samples=None,\n",
       "                       min_impurity_decrease=0.0, min_impurity_split=None,\n",
       "                       min_samples_leaf=1, min_samples_split=2,\n",
       "                       min_weight_fraction_leaf=0.0, n_estimators=100,\n",
       "                       n_jobs=None, oob_score=False, random_state=2023,\n",
       "                       verbose=0, warm_start=False)"
      ]
     },
     "execution_count": 23,
     "metadata": {},
     "output_type": "execute_result"
    }
   ],
   "source": [
    "model = RandomForestClassifier(n_estimators=100, max_depth=10, random_state=2023)\n",
    "model.fit(tfidf_tweets, sentimentos)"
   ]
  },
  {
   "cell_type": "code",
   "execution_count": 24,
   "id": "9cd3ce1d",
   "metadata": {},
   "outputs": [
    {
     "name": "stdout",
     "output_type": "stream",
     "text": [
      "['Reforma da Previdência é uma uma emenda constitucional', 'Essa reforma da previdência é uma coisa imunda', 'A reforma da previdência será modificada pra economizar menos', 'Só irei aposentar no caixão', 'Isso é regime de escravidão o que essa reforma propões']\n"
     ]
    }
   ],
   "source": [
    "testes = [\n",
    "    \"Reforma da Previdência é uma uma emenda constitucional\", # Neutro\n",
    "    \"Essa reforma da previdência é uma coisa imunda\", # Negativo\n",
    "    \"A reforma da previdência será modificada pra economizar menos\", # Neutro\n",
    "    \"Só irei aposentar no caixão\", # Negativo\n",
    "    \"Isso é regime de escravidão o que essa reforma propões\" # Negativo\n",
    "]\n",
    "print(testes)"
   ]
  },
  {
   "cell_type": "code",
   "execution_count": 25,
   "id": "bc2fd1b5",
   "metadata": {},
   "outputs": [],
   "source": [
    "tfidf_testes = vectorizer.transform(testes)"
   ]
  },
  {
   "cell_type": "code",
   "execution_count": 26,
   "id": "4189ffc7",
   "metadata": {},
   "outputs": [
    {
     "data": {
      "text/plain": [
       "array(['Neutro', 'Neutro', 'Negativo', 'Negativo', 'Negativo'],\n",
       "      dtype=object)"
      ]
     },
     "execution_count": 26,
     "metadata": {},
     "output_type": "execute_result"
    }
   ],
   "source": [
    "model.predict(tfidf_testes)"
   ]
  },
  {
   "cell_type": "code",
   "execution_count": 27,
   "id": "4d6ac00f",
   "metadata": {},
   "outputs": [],
   "source": [
    "resultados = cross_val_predict(model, tfidf_tweets, sentimentos, cv=10)"
   ]
  },
  {
   "cell_type": "code",
   "execution_count": 28,
   "id": "a318026d",
   "metadata": {},
   "outputs": [
    {
     "data": {
      "text/plain": [
       "0.5622759856630825"
      ]
     },
     "execution_count": 28,
     "metadata": {},
     "output_type": "execute_result"
    }
   ],
   "source": [
    "metrics.accuracy_score(sentimentos, resultados)"
   ]
  },
  {
   "cell_type": "code",
   "execution_count": 29,
   "id": "ba501ccb",
   "metadata": {},
   "outputs": [
    {
     "name": "stdout",
     "output_type": "stream",
     "text": [
      "              precision    recall  f1-score   support\n",
      "\n",
      "    Negativo       0.56      0.38      0.45       712\n",
      "      Neutro       0.54      0.73      0.62       780\n",
      "    Positivo       0.59      0.56      0.58       740\n",
      "\n",
      "    accuracy                           0.56      2232\n",
      "   macro avg       0.56      0.56      0.55      2232\n",
      "weighted avg       0.56      0.56      0.55      2232\n",
      "\n"
     ]
    }
   ],
   "source": [
    "print(metrics.classification_report(sentimentos, resultados))"
   ]
  },
  {
   "cell_type": "code",
   "execution_count": 30,
   "id": "23b08de5",
   "metadata": {},
   "outputs": [
    {
     "data": {
      "image/png": "[encoded data removed]",
      "text/plain": [
       "<Figure size 640x480 with 2 Axes>"
      ]
     },
     "metadata": {},
     "output_type": "display_data"
    }
   ],
   "source": [
    "confusion_matrix = metrics.plot_confusion_matrix(model,X=tfidf_tweets,y_true=sentimentos,values_format='.4g')"
   ]
  },
  {
   "cell_type": "markdown",
   "id": "d07e67db",
   "metadata": {},
   "source": [
    "## Resultado\n",
    "\n",
    "Pendente."
   ]
  }
 ],
 "metadata": {
  "kernelspec": {
   "display_name": "Python 3 (ipykernel)",
   "language": "python",
   "name": "python3"
  },
  "language_info": {
   "codemirror_mode": {
    "name": "ipython",
    "version": 3
   },
   "file_extension": ".py",
   "mimetype": "text/x-python",
   "name": "python",
   "nbconvert_exporter": "python",
   "pygments_lexer": "ipython3",
   "version": "3.7.7"
  }
 },
 "nbformat": 4,
 "nbformat_minor": 5
}
